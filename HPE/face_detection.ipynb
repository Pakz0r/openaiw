{
 "cells": [
  {
   "cell_type": "code",
   "execution_count": null,
   "metadata": {},
   "outputs": [],
   "source": [
    "%matplotlib inline\n",
    "from matplotlib import pyplot as plt\n",
    "from facenet_pytorch import MTCNN\n",
    "from PIL import Image\n",
    "\n",
    "image = Image.open(\"test_image.jpg\").convert(\"RGB\")\n",
    "mtcnn = MTCNN(margin=40, select_largest=True, post_process=False, device='cuda:0') #post_process=False / save_path\n",
    "image_cropped = mtcnn(image).permute(1, 2, 0).int().numpy()\n",
    "\n",
    "plt.imshow(image_cropped)\n",
    "plt.show()"
   ]
  }
 ],
 "metadata": {
  "kernelspec": {
   "display_name": "hpe",
   "language": "python",
   "name": "python3"
  },
  "language_info": {
   "codemirror_mode": {
    "name": "ipython",
    "version": 3
   },
   "file_extension": ".py",
   "mimetype": "text/x-python",
   "name": "python",
   "nbconvert_exporter": "python",
   "pygments_lexer": "ipython3",
   "version": "3.8.18"
  }
 },
 "nbformat": 4,
 "nbformat_minor": 2
}
